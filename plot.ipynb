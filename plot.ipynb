{
 "cells": [
  {
   "cell_type": "code",
   "execution_count": 1,
   "metadata": {},
   "outputs": [],
   "source": [
    "#from environment import * \n",
    "import numpy as np \n",
    "import matplotlib.pyplot as plt \n",
    "import re"
   ]
  },
  {
   "cell_type": "code",
   "execution_count": 2,
   "metadata": {},
   "outputs": [],
   "source": [
    "first_time=\"6:30\"\n",
    "last_time=\"22:00\"\n",
    "max_capacity = 47\n",
    "trf_path=\"data/line3/traffic-1.csv\"\n",
    "passenger_info_path = \"data/line3/passenger_dataframe_direction1.csv\"\n",
    "trf_con = pd.DataFrame(pd.read_csv(trf_path))\n",
    "first_minute_th = (int(first_time[:-3]) - int(trf_con.iloc[0, 0])) * 60 + (int(first_time[-2:]) - int(trf_con.iloc[0, 1]))\n",
    "last_minute_th = (int(last_time[:-3]) - int(trf_con.iloc[0, 0])) * 60 + (int(last_time[-2:]) - int(trf_con.iloc[0, 1]))\n",
    "current_minute_th = first_minute_th\n",
    "passenger_columns = ['Label', 'Boarding time', 'Boarding station', 'Alighting station','Arrival time']\n",
    "bus_image = mpimg.imread('busImage.png')\n",
    "rewards = []"
   ]
  },
  {
   "cell_type": "code",
   "execution_count": 5,
   "metadata": {},
   "outputs": [
    {
     "data": {
      "text/plain": [
       "(<Figure size 1700x500 with 1 Axes>, <Axes: >)"
      ]
     },
     "execution_count": 5,
     "metadata": {},
     "output_type": "execute_result"
    },
    {
     "data": {
      "image/png": "[encoded data removed]",
      "text/plain": [
       "<Figure size 1700x500 with 1 Axes>"
      ]
     },
     "metadata": {},
     "output_type": "display_data"
    }
   ],
   "source": [
    "Line = BusLine(passenger_info_path,trf_path,first_minute_th,last_minute_th,max_capacity,1)\n",
    "reward,new_state = Line.update_environment(1)\n",
    "Line.plot()"
   ]
  },
  {
   "cell_type": "code",
   "execution_count": 8,
   "metadata": {},
   "outputs": [],
   "source": [
    "import os\n",
    "import cv2\n",
    "\n",
    "def save_frames_as_video(frames_path, output_video_path, frame_rate=24):\n",
    "    # Get the list of filenames and sort them numerically\n",
    "    filenames = sorted(os.listdir(frames_path), key=lambda x: int(x.split('.')[0]))\n",
    "    frame = cv2.imread(os.path.join(frames_path, filenames[0]))\n",
    "    height, width, layers = frame.shape\n",
    "    video = cv2.VideoWriter(output_video_path, cv2.VideoWriter_fourcc(*'mp4v'), frame_rate, (width,height))\n",
    "\n",
    "    for filename in filenames:\n",
    "        if filename.endswith('.png'):  # Adjust this if your frames are saved with a different extension\n",
    "            img = cv2.imread(os.path.join(frames_path, filename))\n",
    "            video.write(img)\n",
    "\n",
    "    cv2.destroyAllWindows()\n",
    "    video.release()\n",
    "\n",
    "# Example usage\n",
    "frames_path = 'plots'  # Change this to the folder containing your frames\n",
    "output_video_path = 'output.mp4'  # Change this to the desired output video file path\n",
    "frame_rate = 5  # Change this to adjust the frame rate\n",
    "\n",
    "# Call the function to create the video\n",
    "save_frames_as_video(frames_path, output_video_path, frame_rate)\n"
   ]
  },
  {
   "cell_type": "code",
   "execution_count": null,
   "metadata": {},
   "outputs": [],
   "source": []
  }
 ],
 "metadata": {
  "kernelspec": {
   "display_name": "Python 3",
   "language": "python",
   "name": "python3"
  },
  "language_info": {
   "codemirror_mode": {
    "name": "ipython",
    "version": 3
   },
   "file_extension": ".py",
   "mimetype": "text/x-python",
   "name": "python",
   "nbconvert_exporter": "python",
   "pygments_lexer": "ipython3",
   "version": "3.10.14"
  },
  "orig_nbformat": 4
 },
 "nbformat": 4,
 "nbformat_minor": 2
}
